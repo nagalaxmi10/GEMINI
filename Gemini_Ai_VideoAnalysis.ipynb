{
  "nbformat": 4,
  "nbformat_minor": 0,
  "metadata": {
    "colab": {
      "provenance": []
    },
    "kernelspec": {
      "name": "python3",
      "display_name": "Python 3"
    },
    "language_info": {
      "name": "python"
    }
  },
  "cells": [
    {
      "cell_type": "code",
      "source": [
        "pip install youtube-transcript-api pytube"
      ],
      "metadata": {
        "colab": {
          "base_uri": "https://localhost:8080/"
        },
        "id": "6caEPvwTVXTq",
        "outputId": "bf9c3ec2-ee44-4cf8-a06a-adfef47e14d3"
      },
      "execution_count": 2,
      "outputs": [
        {
          "output_type": "stream",
          "name": "stdout",
          "text": [
            "Collecting youtube-transcript-api\n",
            "  Downloading youtube_transcript_api-1.0.1-py3-none-any.whl.metadata (22 kB)\n",
            "Collecting pytube\n",
            "  Downloading pytube-15.0.0-py3-none-any.whl.metadata (5.0 kB)\n",
            "Requirement already satisfied: defusedxml<0.8.0,>=0.7.1 in /usr/local/lib/python3.11/dist-packages (from youtube-transcript-api) (0.7.1)\n",
            "Requirement already satisfied: requests in /usr/local/lib/python3.11/dist-packages (from youtube-transcript-api) (2.32.3)\n",
            "Requirement already satisfied: charset-normalizer<4,>=2 in /usr/local/lib/python3.11/dist-packages (from requests->youtube-transcript-api) (3.4.1)\n",
            "Requirement already satisfied: idna<4,>=2.5 in /usr/local/lib/python3.11/dist-packages (from requests->youtube-transcript-api) (3.10)\n",
            "Requirement already satisfied: urllib3<3,>=1.21.1 in /usr/local/lib/python3.11/dist-packages (from requests->youtube-transcript-api) (2.3.0)\n",
            "Requirement already satisfied: certifi>=2017.4.17 in /usr/local/lib/python3.11/dist-packages (from requests->youtube-transcript-api) (2025.1.31)\n",
            "Downloading youtube_transcript_api-1.0.1-py3-none-any.whl (1.9 MB)\n",
            "\u001b[2K   \u001b[90m━━━━━━━━━━━━━━━━━━━━━━━━━━━━━━━━━━━━━━━━\u001b[0m \u001b[32m1.9/1.9 MB\u001b[0m \u001b[31m21.9 MB/s\u001b[0m eta \u001b[36m0:00:00\u001b[0m\n",
            "\u001b[?25hDownloading pytube-15.0.0-py3-none-any.whl (57 kB)\n",
            "\u001b[2K   \u001b[90m━━━━━━━━━━━━━━━━━━━━━━━━━━━━━━━━━━━━━━━━\u001b[0m \u001b[32m57.6/57.6 kB\u001b[0m \u001b[31m4.0 MB/s\u001b[0m eta \u001b[36m0:00:00\u001b[0m\n",
            "\u001b[?25hInstalling collected packages: pytube, youtube-transcript-api\n",
            "Successfully installed pytube-15.0.0 youtube-transcript-api-1.0.1\n"
          ]
        }
      ]
    },
    {
      "cell_type": "code",
      "execution_count": 3,
      "metadata": {
        "colab": {
          "base_uri": "https://localhost:8080/"
        },
        "id": "Ge6xBfKCVJKz",
        "outputId": "458d4929-9de7-443d-c58f-27b2825ed719"
      },
      "outputs": [
        {
          "output_type": "stream",
          "name": "stdout",
          "text": [
            "Transcript:\n",
            " hi guys today I'm going to introduce you what is machine learning uh these are my presentation content what is machine learning what are the different applications of machine learning different types of machine learning and how to build a machine learning system or model then various kinds of algorithms and later on in this series we are going to take a Hands-On you know case studies or doing programming for various kinds of up algorithms so what is machine learning so machine learning is nothin\n"
          ]
        }
      ],
      "source": [
        "from youtube_transcript_api import YouTubeTranscriptApi\n",
        "def get_youtube_transcript(video_url):\n",
        "    video_id = video_url.split(\"v=\")[1].split(\"&\")[0]  # Extract video ID\n",
        "    transcript = YouTubeTranscriptApi.get_transcript(video_id)\n",
        "    full_text = \" \".join([t[\"text\"] for t in transcript])\n",
        "    return full_text\n",
        "video_url = \"https://www.youtube.com/watch?v=unYDoA8QGH0&list=PLWEpztHwA4ZT2QlHC74oIz4MsawcvE-QX\"\n",
        "video_transcript = get_youtube_transcript(video_url)\n",
        "print(\"Transcript:\\n\", video_transcript[:500])"
      ]
    },
    {
      "cell_type": "code",
      "source": [
        "import google.generativeai as genai\n",
        "from google.colab import userdata\n",
        "GOOGLE_API_KEY=userdata.get('GOOGLE_API_KEY')\n",
        "genai.configure(api_key=GOOGLE_API_KEY)"
      ],
      "metadata": {
        "id": "A-K7Ix3uViTb"
      },
      "execution_count": 5,
      "outputs": []
    },
    {
      "cell_type": "code",
      "source": [
        "def summarize_video(text):\n",
        "    \"\"\"Summarizes the YouTube video transcript using Gemini AI.\"\"\"\n",
        "    model = genai.GenerativeModel(\"gemini-1.5-flash\")\n",
        "    prompt = f\"Summarize the following YouTube video transcript:\\n\\n{text}\"\n",
        "    response = model.generate_content(prompt)\n",
        "    return response.text\n",
        "summary = summarize_video(video_transcript)\n",
        "print(\"Summary:\\n\", summary)"
      ],
      "metadata": {
        "colab": {
          "base_uri": "https://localhost:8080/",
          "height": 158
        },
        "id": "JPycfbFoWLqa",
        "outputId": "e3ad6f0d-3473-448c-d39e-3d982ddb543d"
      },
      "execution_count": 6,
      "outputs": [
        {
          "output_type": "stream",
          "name": "stdout",
          "text": [
            "Summary:\n",
            " This YouTube video is an introduction to machine learning.  The speaker defines machine learning as learning from data, a subfield of AI that allows computers to learn without explicit programming.  Several applications are discussed, including speech recognition, web search, recommendation systems, computer vision, information retrieval, and fraud detection.\n",
            "\n",
            "Three main types of machine learning are explained: supervised (learning from labeled data, with subcategories of classification and regression), unsupervised (learning from unlabeled data, exemplified by clustering and dimensionality reduction), and reinforcement learning (learning through trial and error and rewards/penalties).\n",
            "\n",
            "The video outlines the process of building a machine learning model, emphasizing data preprocessing (cleaning, scaling, encoding, feature selection), algorithm selection (different algorithms for classification and regression), model building, and evaluation.  The speaker promises future videos with hands-on case studies and algorithm implementations using the Iris dataset as an example.  Key terminology like features, attributes, samples, instances, target variables, and response variables are also defined.\n",
            "\n"
          ]
        }
      ]
    },
    {
      "cell_type": "code",
      "source": [
        "def extract_video_insigths(text):\n",
        "    \"\"\"Extracts ley insigths from the Youtube video Transcripts.\"\"\"\n",
        "    model=genai.GenerativeModel(\"gemini-1.5-flash\")\n",
        "    prompt=f\"Extract key insights from the following Youtube video transcript:\\n\\n{text}\"\n",
        "    response=model.generate_content(prompt)\n",
        "    return response.text\n",
        "insigths=extract_video_insigths(video_transcript)\n",
        "print(\"Insights:\\n\", insigths)"
      ],
      "metadata": {
        "colab": {
          "base_uri": "https://localhost:8080/",
          "height": 783
        },
        "id": "vx5OY-xDWego",
        "outputId": "ad3d2623-e2f4-4f5a-e883-35aab9513676"
      },
      "execution_count": 7,
      "outputs": [
        {
          "output_type": "stream",
          "name": "stdout",
          "text": [
            "Insights:\n",
            " This YouTube video provides an introduction to machine learning. Key insights include:\n",
            "\n",
            "**What is Machine Learning?**\n",
            "\n",
            "* Machine learning is learning from data.  It's a subfield of AI that creates smarter applications.  Data is considered \"training data\" or \"experience.\"\n",
            "* The core function is to build systems that learn from data, creating models used for prediction.\n",
            "* Arthur Samuel's definition:  giving computers the ability to learn without explicit programming.  This means leveraging algorithms to build models without hardcoding specific rules.\n",
            "* A simpler definition: learning from data.\n",
            "\n",
            "**Applications of Machine Learning:**\n",
            "\n",
            "* **Speech Recognition:**  powering applications like Siri, Alexa, and Google Now.\n",
            "* **Web Search:**  improving search engine results (e.g., using algorithms like Naive Bayes).\n",
            "* **Recommendation Systems:** suggesting products or other outcomes.\n",
            "* **Computer Vision:** understanding images and videos (identifying objects, etc.).\n",
            "* **Information Retrieval:** accessing and processing large amounts of data (e.g., Google search).\n",
            "* **Fraud Detection:** identifying malicious activities.\n",
            "\n",
            "**Types of Machine Learning:**\n",
            "\n",
            "* **Supervised Learning:**  The training data includes labels (the desired outcome is known).  This is further divided into:\n",
            "    * **Classification:** predicting categorical labels (e.g., spam/not spam).\n",
            "    * **Regression:** predicting continuous values (e.g., salary, temperature).\n",
            "* **Unsupervised Learning:** The training data lacks labels; the goal is to find structure or patterns in the data (e.g., clustering, dimensionality reduction).\n",
            "* **Reinforcement Learning:** An agent learns through trial and error within an environment, receiving rewards or penalties (e.g., game playing, robotics).\n",
            "\n",
            "**Building a Machine Learning Model:**\n",
            "\n",
            "* **Data Preprocessing:** Cleaning and preparing the data (handling missing values, scaling features, encoding categorical variables, feature selection/reduction).\n",
            "* **Algorithm Selection:** Choosing an appropriate algorithm based on the problem type (classification, regression, etc.).  Multiple models are recommended for comparison.\n",
            "* **Model Evaluation:** Assessing the accuracy and performance of the model.\n",
            "* **Workflow/Pipeline:** The entire process from data preprocessing to model evaluation.\n",
            "\n",
            "**Key Terms:**\n",
            "\n",
            "* **Features/Attributes/Measurements/Dimensions:** Columns in a dataset (excluding the target variable).\n",
            "* **Samples/Instances/Observations:** Rows in a dataset.\n",
            "* **Target Variable/Response Variable:** The column to be predicted.\n",
            "\n",
            "\n",
            "The video promises future sessions with hands-on case studies and practical implementation of various algorithms.\n",
            "\n"
          ]
        }
      ]
    },
    {
      "cell_type": "code",
      "source": [],
      "metadata": {
        "id": "t7QOxt9wXbl7"
      },
      "execution_count": null,
      "outputs": []
    }
  ]
}